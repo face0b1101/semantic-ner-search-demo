{
 "cells": [
  {
   "cell_type": "markdown",
   "metadata": {},
   "source": [
    "# Semantic Search + NER Demo\n",
    "\n",
    "Built following the excellent [blog post by Camille Corti-Georgiou](https://www.elastic.co/search-labs/blog/articles/developing-an-elastic-search-app-with-streamlit-semantic-search-and-named-entity-extraction).\n"
   ]
  },
  {
   "cell_type": "markdown",
   "metadata": {},
   "source": [
    "## Import Dependencies\n"
   ]
  },
  {
   "cell_type": "code",
   "execution_count": 51,
   "metadata": {},
   "outputs": [],
   "source": [
    "import csv\n",
    "import getpass\n",
    "import os\n",
    "import time\n",
    "from concurrent.futures import ThreadPoolExecutor, as_completed\n",
    "from getpass import getpass\n",
    "\n",
    "from elasticsearch import Elasticsearch, exceptions\n",
    "from elasticsearch.helpers import parallel_bulk\n",
    "from kaggle.api.kaggle_api_extended import KaggleApi\n",
    "from tqdm.auto import tqdm  # auto selects notebook GUI if in Jupyter"
   ]
  },
  {
   "cell_type": "markdown",
   "metadata": {},
   "source": [
    "## Download dataset from Kaggle\n"
   ]
  },
  {
   "cell_type": "code",
   "execution_count": 4,
   "metadata": {},
   "outputs": [
    {
     "name": "stdout",
     "output_type": "stream",
     "text": [
      "Dataset downloaded to: ../data\n"
     ]
    }
   ],
   "source": [
    "# Configure the Kaggle API\n",
    "os.environ[\"KAGGLE_USERNAME\"] = getpass.getpass(\"Enter your Kaggle username:\")\n",
    "os.environ[\"KAGGLE_KEY\"] = getpass.getpass(\"Enter your Kaggle key:\")\n",
    "\n",
    "# Initialize API\n",
    "api = KaggleApi()\n",
    "api.authenticate()\n",
    "\n",
    "# Define the dataset path\n",
    "dataset = \"gpreda/bbc-news\"\n",
    "\n",
    "# Define download path\n",
    "download_path = \"../data\"  # Adjust this path as needed\n",
    "\n",
    "# Download dataset\n",
    "api.dataset_download_files(dataset, path=download_path, unzip=True)\n",
    "\n",
    "print(f\"Dataset downloaded to: {download_path}\")"
   ]
  },
  {
   "cell_type": "markdown",
   "metadata": {},
   "source": [
    "## Use Docker to Upload and Start the Custom NER ML Model\n",
    "\n",
    "```sh\n",
    "docker run -it --rm docker.elastic.co/eland/eland:latest \\\n",
    "    eland_import_hub_model \\\n",
    "        --cloud-id $CLOUD_ID \\\n",
    "        --es-api-key $API_KEY \\\n",
    "        --hub-model-id \"elastic/distilbert-base-uncased-finetuned-conll03-english\" \\\n",
    "        --task-type ner \\\n",
    "        --start\n",
    "```\n"
   ]
  },
  {
   "cell_type": "markdown",
   "metadata": {},
   "source": [
    "## Set up Elasticsearch Client\n"
   ]
  },
  {
   "cell_type": "code",
   "execution_count": 6,
   "metadata": {},
   "outputs": [
    {
     "name": "stdout",
     "output_type": "stream",
     "text": [
      "{'name': 'instance-0000000030', 'cluster_name': '0a22c2712d2e41cdb96896213f6ebd0d', 'cluster_uuid': 'rh-W7PoJRkW5zpO9L3-pYg', 'version': {'number': '8.12.2', 'build_flavor': 'default', 'build_type': 'docker', 'build_hash': '48a287ab9497e852de30327444b0809e55d46466', 'build_date': '2024-02-19T10:04:32.774273190Z', 'build_snapshot': False, 'lucene_version': '9.9.2', 'minimum_wire_compatibility_version': '7.17.0', 'minimum_index_compatibility_version': '7.0.0'}, 'tagline': 'You Know, for Search'}\n"
     ]
    }
   ],
   "source": [
    "# Create the client instance\n",
    "es_client = Elasticsearch(\n",
    "    # For local development\n",
    "    # hosts=[\"http://localhost:9200\"]\n",
    "    cloud_id=getpass(\"Elastic Cloud ID: \"),\n",
    "    api_key=getpass(\"Elastic Api Key: \"),\n",
    ")\n",
    "\n",
    "print(es_client.info())"
   ]
  },
  {
   "cell_type": "markdown",
   "metadata": {},
   "source": [
    "## Download and Deploy ELSER Model\n",
    "\n",
    "This code will download the ELSER model. This will take a few minutes to complete. Use the following command to check the status of the model download.\n"
   ]
  },
  {
   "cell_type": "code",
   "execution_count": 7,
   "metadata": {},
   "outputs": [
    {
     "name": "stderr",
     "output_type": "stream",
     "text": [
      "/var/folders/9d/6ddqcctn1p53z_4xwltwpwc40000gn/T/ipykernel_15051/4165779150.py:3: ElasticsearchWarning: The default [remove_binary] value of 'false' is deprecated and will be set to 'true' in a future release. Set [remove_binary] explicitly to 'true' or 'false' to ensure no behavior change.\n",
      "  es_client.ml.delete_trained_model(model_id=\".elser_model_2\", force=True)\n"
     ]
    },
    {
     "name": "stdout",
     "output_type": "stream",
     "text": [
      "Model deleted successfully, We will proceed with creating one\n",
      "ELSER Model is downloaded but not ready to be deployed.\n",
      "ELSER Model is downloaded but not ready to be deployed.\n",
      "ELSER Model is downloaded but not ready to be deployed.\n",
      "ELSER Model is downloaded but not ready to be deployed.\n",
      "ELSER Model is downloaded but not ready to be deployed.\n",
      "ELSER Model is downloaded but not ready to be deployed.\n",
      "ELSER Model is downloaded but not ready to be deployed.\n",
      "ELSER Model is downloaded but not ready to be deployed.\n",
      "ELSER Model is downloaded but not ready to be deployed.\n",
      "ELSER Model is downloaded but not ready to be deployed.\n",
      "ELSER Model is downloaded but not ready to be deployed.\n",
      "ELSER Model is downloaded but not ready to be deployed.\n",
      "ELSER Model is downloaded but not ready to be deployed.\n",
      "ELSER Model is downloaded and ready to be deployed.\n"
     ]
    }
   ],
   "source": [
    "model_id = \".elser_model_2_linux-x86_64\"\n",
    "\n",
    "# delete model if already downloaded and deployed\n",
    "try:\n",
    "    es_client.ml.delete_trained_model(model_id=model_id, force=True)\n",
    "    print(\"Model deleted successfully, We will proceed with creating one\")\n",
    "\n",
    "except exceptions.NotFoundError:\n",
    "    print(\"Model doesn't exist, but We will proceed with creating one\")\n",
    "\n",
    "# Creates the ELSER model configuration. Automatically downloads the model if it doesn't exist.\n",
    "es_client.ml.put_trained_model(model_id=model_id, input={\"field_names\": [\"text_field\"]})\n",
    "\n",
    "while True:\n",
    "    status = es_client.ml.get_trained_models(\n",
    "        model_id=model_id, include=\"definition_status\"\n",
    "    )\n",
    "\n",
    "    if status[\"trained_model_configs\"][0][\"fully_defined\"]:\n",
    "        print(\"ELSER Model is downloaded and ready to be deployed.\")\n",
    "        break\n",
    "\n",
    "    else:\n",
    "        print(\"ELSER Model is downloaded but not ready to be deployed.\")\n",
    "    time.sleep(5)"
   ]
  },
  {
   "cell_type": "markdown",
   "metadata": {},
   "source": [
    "Once the model is downloaded, we can deploy the model in our ML node. Use the following command to deploy the model.\n"
   ]
  },
  {
   "cell_type": "code",
   "execution_count": 66,
   "metadata": {},
   "outputs": [
    {
     "name": "stdout",
     "output_type": "stream",
     "text": [
      "ELSER Model is currently being deployed.\n",
      "ELSER Model is currently being deployed.\n",
      "ELSER Model has been successfully deployed.\n"
     ]
    }
   ],
   "source": [
    "# Start trained model deployment if not already deployed\n",
    "es_client.ml.start_trained_model_deployment(\n",
    "    model_id=\".elser_model_2_linux-x86_64\",\n",
    "    wait_for=\"starting\",\n",
    "    queue_capacity=10000,\n",
    "    number_of_allocations=7,\n",
    "    threads_per_allocation=2,\n",
    ")\n",
    "\n",
    "while True:\n",
    "    status = es_client.ml.get_trained_models_stats(\n",
    "        model_id=\".elser_model_2_linux-x86_64\",\n",
    "    )\n",
    "\n",
    "    if status[\"trained_model_stats\"][0][\"deployment_stats\"][\"state\"] == \"started\":\n",
    "        print(\"ELSER Model has been successfully deployed.\")\n",
    "        break\n",
    "\n",
    "    else:\n",
    "        print(\"ELSER Model is currently being deployed.\")\n",
    "    time.sleep(5)"
   ]
  },
  {
   "cell_type": "markdown",
   "metadata": {},
   "source": [
    "## Create Elasticsearch Index & Ingest Pipeline\n"
   ]
  },
  {
   "cell_type": "markdown",
   "metadata": {},
   "source": [
    "## Define Ingest Pipeline processors, and index mappings\n",
    "\n",
    "First we need to define the json representing the ingest pipeline processors, and the index mapping\n"
   ]
  },
  {
   "cell_type": "code",
   "execution_count": 36,
   "metadata": {},
   "outputs": [],
   "source": [
    "es_news_pipeline_processors = [\n",
    "    {\"date\": {\"field\": \"pubDate\", \"formats\": [\"EEE, dd MMM yyyy HH:mm:ss zzz\"]}},\n",
    "    {\n",
    "        \"inference\": {\n",
    "            \"model_id\": \".elser_model_2\",\n",
    "            \"input_output\": [\n",
    "                {\"input_field\": \"title\", \"output_field\": \"ml-elser-title\"}\n",
    "            ],\n",
    "            \"description\": 'Runs .elser_model_2 and stores resulting tokens in \"ml-elser-title\"',\n",
    "        }\n",
    "    },\n",
    "    {\n",
    "        \"inference\": {\n",
    "            \"model_id\": \".elser_model_2\",\n",
    "            \"input_output\": [\n",
    "                {\"input_field\": \"description\", \"output_field\": \"ml-elser-description\"}\n",
    "            ],\n",
    "            \"description\": 'Runs .elser_model_2 and stores resulting tokens in \"ml-elser-description\"',\n",
    "        }\n",
    "    },\n",
    "    {\n",
    "        \"inference\": {\n",
    "            \"model_id\": \"elastic__distilbert-base-uncased-finetuned-conll03-english\",\n",
    "            \"target_field\": \"ml.ner\",\n",
    "            \"field_map\": {\"title\": \"text_field\"},\n",
    "        }\n",
    "    },\n",
    "    {\n",
    "        \"script\": {\n",
    "            \"lang\": \"painless\",\n",
    "            \"if\": \"return ctx['ml']['ner'].containsKey('entities')\",\n",
    "            \"source\": \"Map tags = new HashMap(); for (item in ctx['ml']['ner']['entities']) { if (!tags.containsKey(item.class_name)) tags[item.class_name] = new HashSet(); tags[item.class_name].add(item.entity);} ctx['tags'] = tags;\",\n",
    "        }\n",
    "    },\n",
    "]"
   ]
  },
  {
   "cell_type": "code",
   "execution_count": 43,
   "metadata": {},
   "outputs": [],
   "source": [
    "es_news_index_mapping = {\n",
    "    \"_source\": {\"excludes\": [\"content_embedding\"]},\n",
    "    \"properties\": {\n",
    "        \"@timestamp\": {\"type\": \"date\"},\n",
    "        \"@version\": {\"type\": \"keyword\", \"ignore_above\": 256},\n",
    "        \"description\": {\"type\": \"text\"},\n",
    "        \"ml\": {\n",
    "            \"properties\": {\n",
    "                \"ner\": {\n",
    "                    \"properties\": {\n",
    "                        \"entities\": {\n",
    "                            \"properties\": {\n",
    "                                \"class_name\": {\"type\": \"keyword\", \"ignore_above\": 256},\n",
    "                                \"class_probability\": {\"type\": \"float\"},\n",
    "                                \"end_pos\": {\"type\": \"long\"},\n",
    "                                \"entity\": {\"type\": \"keyword\", \"ignore_above\": 256},\n",
    "                                \"start_pos\": {\"type\": \"long\"},\n",
    "                            }\n",
    "                        },\n",
    "                        \"model_id\": {\"type\": \"keyword\", \"ignore_above\": 256},\n",
    "                        \"predicted_value\": {\"type\": \"keyword\", \"ignore_above\": 256},\n",
    "                    }\n",
    "                }\n",
    "            }\n",
    "        },\n",
    "        \"ml-elser-description\": {\"type\": \"sparse_vector\"},\n",
    "        \"ml-elser-title\": {\"type\": \"sparse_vector\"},\n",
    "        \"pubDate\": {\n",
    "            \"type\": \"date\",\n",
    "            \"format\": \"EEE, dd MMM yyyy HH:mm:ss z\",\n",
    "            \"ignore_malformed\": True,\n",
    "        },\n",
    "        \"tags\": {\n",
    "            \"properties\": {\n",
    "                \"LOC\": {\"type\": \"keyword\", \"ignore_above\": 256},\n",
    "                \"MISC\": {\"type\": \"keyword\", \"ignore_above\": 256},\n",
    "                \"ORG\": {\"type\": \"keyword\", \"ignore_above\": 256},\n",
    "                \"PER\": {\"type\": \"keyword\", \"ignore_above\": 256},\n",
    "            }\n",
    "        },\n",
    "        \"title\": {\"type\": \"text\"},\n",
    "        \"url\": {\"type\": \"keyword\", \"ignore_above\": 256},\n",
    "    },\n",
    "}"
   ]
  },
  {
   "cell_type": "markdown",
   "metadata": {},
   "source": [
    "now, to create the ingest pipeline and search index...\n"
   ]
  },
  {
   "cell_type": "code",
   "execution_count": 53,
   "metadata": {},
   "outputs": [
    {
     "data": {
      "text/plain": [
       "ObjectApiResponse({'acknowledged': True})"
      ]
     },
     "execution_count": 53,
     "metadata": {},
     "output_type": "execute_result"
    }
   ],
   "source": [
    "es_client.ingest.put_pipeline(\n",
    "    id=\"search-demos-bbc.semantic.ner-pipeline\",\n",
    "    description=\"Ingest pipeline for Semantic Ner Search Demo using BBC dataset\",\n",
    "    processors=es_news_pipeline_processors,\n",
    ")"
   ]
  },
  {
   "cell_type": "code",
   "execution_count": 77,
   "metadata": {},
   "outputs": [
    {
     "data": {
      "text/plain": [
       "ObjectApiResponse({'acknowledged': True, 'shards_acknowledged': True, 'index': 'search-demos-bbc.semantic.ner'})"
      ]
     },
     "execution_count": 77,
     "metadata": {},
     "output_type": "execute_result"
    }
   ],
   "source": [
    "es_index = \"search-demos-bbc.semantic.ner\"\n",
    "\n",
    "es_client.indices.delete(index=\"search-demos-bbc.semantic.ner\", ignore_unavailable=True)\n",
    "es_client.indices.create(\n",
    "    index=es_index,\n",
    "    settings={\"index\": {\"default_pipeline\": \"search-demos-bbc.semantic.ner-pipeline\"}},\n",
    "    mappings=es_news_index_mapping,\n",
    ")"
   ]
  },
  {
   "cell_type": "markdown",
   "metadata": {},
   "source": [
    "## Process the CSV data and index into Elasticsearch\n"
   ]
  },
  {
   "cell_type": "code",
   "execution_count": 78,
   "metadata": {},
   "outputs": [
    {
     "name": "stdout",
     "output_type": "stream",
     "text": [
      "[{'title': 'Ukraine: Angry Zelensky vows to punish Russian atrocities', 'pubDate': 'Mon, 07 Mar 2022 08:01:56 GMT', 'guid': 'https://www.bbc.co.uk/news/world-europe-60638042', 'link': 'https://www.bbc.co.uk/news/world-europe-60638042?at_medium=RSS&at_campaign=KARANGA', 'description': 'The Ukrainian president says the country will not forgive or forget those who murder its civilians.'}, {'title': 'War in Ukraine: Taking cover in a town under attack', 'pubDate': 'Sun, 06 Mar 2022 22:49:58 GMT', 'guid': 'https://www.bbc.co.uk/news/world-europe-60641873', 'link': 'https://www.bbc.co.uk/news/world-europe-60641873?at_medium=RSS&at_campaign=KARANGA', 'description': 'Jeremy Bowen was on the frontline in Irpin, as residents came under Russian fire while trying to flee.'}, {'title': \"Ukraine war 'catastrophic for global food'\", 'pubDate': 'Mon, 07 Mar 2022 00:14:42 GMT', 'guid': 'https://www.bbc.co.uk/news/business-60623941', 'link': 'https://www.bbc.co.uk/news/business-60623941?at_medium=RSS&at_campaign=KARANGA', 'description': \"One of the world's biggest fertiliser firms says the conflict could deliver a shock to food supplies.\"}, {'title': \"Manchester Arena bombing: Saffie Roussos's parents on hearing the truth\", 'pubDate': 'Mon, 07 Mar 2022 00:05:40 GMT', 'guid': 'https://www.bbc.co.uk/news/uk-60579079', 'link': 'https://www.bbc.co.uk/news/uk-60579079?at_medium=RSS&at_campaign=KARANGA', 'description': \"The parents of the Manchester Arena bombing's youngest victim speak about their life since she died.\"}, {'title': 'Ukraine conflict: Oil price soars to highest level since 2008', 'pubDate': 'Mon, 07 Mar 2022 08:15:53 GMT', 'guid': 'https://www.bbc.co.uk/news/business-60642786', 'link': 'https://www.bbc.co.uk/news/business-60642786?at_medium=RSS&at_campaign=KARANGA', 'description': 'Consumers are feeling the impact of higher energy costs as fuel prices and household bills jump.'}]\n"
     ]
    }
   ],
   "source": [
    "# Path to your dataset file\n",
    "dataset_path = \"../data/bbc_news.csv\"\n",
    "\n",
    "# Read the CSV file into a dict\n",
    "data = []\n",
    "with open(dataset_path, mode=\"r\", encoding=\"utf-8\") as file:\n",
    "    # Create a DictReader object\n",
    "    csv_reader = csv.DictReader(file)\n",
    "\n",
    "    # Iterate over the rows in the CSV file\n",
    "    for row in csv_reader:\n",
    "        data.append(row)\n",
    "\n",
    "# Now 'data' is a list of dictionaries, where each dictionary represents a row from the CSV file\n",
    "print(data[0:5])  # Print the first row to verify"
   ]
  },
  {
   "cell_type": "markdown",
   "metadata": {},
   "source": [
    "### Some helper functions for a smooth ingest experience\n"
   ]
  },
  {
   "cell_type": "code",
   "execution_count": 79,
   "metadata": {},
   "outputs": [],
   "source": [
    "def generate_actions(documents: list):\n",
    "    \"\"\"\n",
    "    Generates actions for bulk ingest from a list of dictionaries.\n",
    "\n",
    "    Args:\n",
    "        documents (list): A list of dictionaries, where each dictionary is a document.\n",
    "\n",
    "    Yields:\n",
    "        dict: A dictionary representing an action for bulk ingest.\n",
    "    \"\"\"\n",
    "    for document in documents:\n",
    "        yield document\n",
    "\n",
    "\n",
    "def send_to_elasticsearch(\n",
    "    es_client: Elasticsearch,\n",
    "    es_index: str,\n",
    "    documents: list,\n",
    "    chunk_size: int = 500,\n",
    ") -> str:\n",
    "    \"\"\"\n",
    "    Uploads data to an Elasticsearch index using parallel processing.\n",
    "\n",
    "    Args:\n",
    "        es_client (Elasticsearch): The Elasticsearch client.\n",
    "        es_index (str): The name of the Elasticsearch index.\n",
    "        documents (list): A list of dictionaries to index.\n",
    "        chunk_size (int): The number of documents to send in each bulk request.\n",
    "\n",
    "    Returns:\n",
    "        str: A message indicating the number of successfully indexed documents.\n",
    "    \"\"\"\n",
    "    num_documents = len(documents)\n",
    "    progress = tqdm(unit=\"docs\", total=num_documents)\n",
    "    successes = 0\n",
    "\n",
    "    try:\n",
    "        for ok, info in parallel_bulk(\n",
    "            client=es_client,\n",
    "            index=es_index,\n",
    "            actions=generate_actions(documents),\n",
    "            chunk_size=chunk_size,\n",
    "            request_timeout=360,\n",
    "        ):\n",
    "            progress.update(1)\n",
    "            progress.refresh()\n",
    "\n",
    "            if ok:\n",
    "                successes += 1\n",
    "            else:\n",
    "                print(f\"A document failed to index: {info['index']['error']}\")\n",
    "\n",
    "    except Exception as e:\n",
    "        print(\"An Elasticsearch error occurred:\", e)\n",
    "        if hasattr(e, \"errors\"):\n",
    "            for error_detail in e.errors:\n",
    "                print(error_detail)\n",
    "\n",
    "    return f\"Indexed {successes}/{num_documents} documents.\""
   ]
  },
  {
   "cell_type": "markdown",
   "metadata": {},
   "source": [
    "### The actual data ingest\n"
   ]
  },
  {
   "cell_type": "code",
   "execution_count": 80,
   "metadata": {},
   "outputs": [],
   "source": [
    "num_workers = 8\n",
    "thread_count = 16\n",
    "chunk_size = 1000\n",
    "batch_size = 500\n",
    "\n",
    "# print(\"Indexing documents...\")\n",
    "\n",
    "# result = send_to_elasticsearch(\n",
    "#     es_client=es_client,\n",
    "#     es_index=es_index,\n",
    "#     documents=data,\n",
    "#     chunk_size=chunk_size,\n",
    "# )\n",
    "\n",
    "# print(result)"
   ]
  },
  {
   "cell_type": "code",
   "execution_count": 81,
   "metadata": {},
   "outputs": [
    {
     "data": {
      "application/vnd.jupyter.widget-view+json": {
       "model_id": "01be08013b504083bac7a8500a308cbc",
       "version_major": 2,
       "version_minor": 0
      },
      "text/plain": [
       "  0%|          | 0/500 [00:00<?, ?docs/s]"
      ]
     },
     "metadata": {},
     "output_type": "display_data"
    },
    {
     "name": "stdout",
     "output_type": "stream",
     "text": [
      "Indexed 500/500 documents.\n"
     ]
    },
    {
     "data": {
      "application/vnd.jupyter.widget-view+json": {
       "model_id": "e97f2c83fa304ffea5d501d78c33cfcb",
       "version_major": 2,
       "version_minor": 0
      },
      "text/plain": [
       "  0%|          | 0/500 [00:00<?, ?docs/s]"
      ]
     },
     "metadata": {},
     "output_type": "display_data"
    },
    {
     "name": "stdout",
     "output_type": "stream",
     "text": [
      "Indexed 500/500 documents.\n"
     ]
    },
    {
     "data": {
      "application/vnd.jupyter.widget-view+json": {
       "model_id": "62b65d4f00114340bbee122912bb499e",
       "version_major": 2,
       "version_minor": 0
      },
      "text/plain": [
       "  0%|          | 0/500 [00:00<?, ?docs/s]"
      ]
     },
     "metadata": {},
     "output_type": "display_data"
    },
    {
     "name": "stdout",
     "output_type": "stream",
     "text": [
      "Indexed 500/500 documents.\n"
     ]
    },
    {
     "data": {
      "application/vnd.jupyter.widget-view+json": {
       "model_id": "e3b103723326420f9e646d3552754800",
       "version_major": 2,
       "version_minor": 0
      },
      "text/plain": [
       "  0%|          | 0/500 [00:00<?, ?docs/s]"
      ]
     },
     "metadata": {},
     "output_type": "display_data"
    },
    {
     "name": "stdout",
     "output_type": "stream",
     "text": [
      "Indexed 500/500 documents.\n"
     ]
    },
    {
     "data": {
      "application/vnd.jupyter.widget-view+json": {
       "model_id": "a81d209b1f024a4abb9d1ce31a2c88cc",
       "version_major": 2,
       "version_minor": 0
      },
      "text/plain": [
       "  0%|          | 0/500 [00:00<?, ?docs/s]"
      ]
     },
     "metadata": {},
     "output_type": "display_data"
    },
    {
     "name": "stdout",
     "output_type": "stream",
     "text": [
      "Indexed 500/500 documents.\n"
     ]
    },
    {
     "data": {
      "application/vnd.jupyter.widget-view+json": {
       "model_id": "0573c4945bcc40db9cf1efff17ad96c3",
       "version_major": 2,
       "version_minor": 0
      },
      "text/plain": [
       "  0%|          | 0/500 [00:00<?, ?docs/s]"
      ]
     },
     "metadata": {},
     "output_type": "display_data"
    },
    {
     "name": "stdout",
     "output_type": "stream",
     "text": [
      "Indexed 500/500 documents.\n"
     ]
    },
    {
     "data": {
      "application/vnd.jupyter.widget-view+json": {
       "model_id": "0653e2b10850403e8a8a57ad6e3aa96e",
       "version_major": 2,
       "version_minor": 0
      },
      "text/plain": [
       "  0%|          | 0/500 [00:00<?, ?docs/s]"
      ]
     },
     "metadata": {},
     "output_type": "display_data"
    },
    {
     "name": "stdout",
     "output_type": "stream",
     "text": [
      "Indexed 500/500 documents.\n"
     ]
    },
    {
     "data": {
      "application/vnd.jupyter.widget-view+json": {
       "model_id": "f799b3f9edcf4e2f9c44de489bdce98d",
       "version_major": 2,
       "version_minor": 0
      },
      "text/plain": [
       "  0%|          | 0/500 [00:00<?, ?docs/s]"
      ]
     },
     "metadata": {},
     "output_type": "display_data"
    },
    {
     "name": "stdout",
     "output_type": "stream",
     "text": [
      "Indexed 500/500 documents.\n"
     ]
    },
    {
     "data": {
      "application/vnd.jupyter.widget-view+json": {
       "model_id": "75574d8400804b6a9e2a0d117efe8b42",
       "version_major": 2,
       "version_minor": 0
      },
      "text/plain": [
       "  0%|          | 0/500 [00:00<?, ?docs/s]"
      ]
     },
     "metadata": {},
     "output_type": "display_data"
    },
    {
     "name": "stdout",
     "output_type": "stream",
     "text": [
      "Indexed 500/500 documents.\n"
     ]
    },
    {
     "data": {
      "application/vnd.jupyter.widget-view+json": {
       "model_id": "90942bc9e3dc4df3a49cc06f43ee84f9",
       "version_major": 2,
       "version_minor": 0
      },
      "text/plain": [
       "  0%|          | 0/500 [00:00<?, ?docs/s]"
      ]
     },
     "metadata": {},
     "output_type": "display_data"
    },
    {
     "name": "stdout",
     "output_type": "stream",
     "text": [
      "Indexed 500/500 documents.\n"
     ]
    },
    {
     "data": {
      "application/vnd.jupyter.widget-view+json": {
       "model_id": "dcd26a4da9394357800f7124aad86766",
       "version_major": 2,
       "version_minor": 0
      },
      "text/plain": [
       "  0%|          | 0/500 [00:00<?, ?docs/s]"
      ]
     },
     "metadata": {},
     "output_type": "display_data"
    },
    {
     "name": "stdout",
     "output_type": "stream",
     "text": [
      "Indexed 500/500 documents.\n"
     ]
    },
    {
     "data": {
      "application/vnd.jupyter.widget-view+json": {
       "model_id": "9fe7931c5b674e4a82535ef98bf9b6e6",
       "version_major": 2,
       "version_minor": 0
      },
      "text/plain": [
       "  0%|          | 0/500 [00:00<?, ?docs/s]"
      ]
     },
     "metadata": {},
     "output_type": "display_data"
    },
    {
     "name": "stdout",
     "output_type": "stream",
     "text": [
      "Indexed 500/500 documents.\n"
     ]
    },
    {
     "data": {
      "application/vnd.jupyter.widget-view+json": {
       "model_id": "4d8b2af2728346448054887fc0b45201",
       "version_major": 2,
       "version_minor": 0
      },
      "text/plain": [
       "  0%|          | 0/500 [00:00<?, ?docs/s]"
      ]
     },
     "metadata": {},
     "output_type": "display_data"
    },
    {
     "name": "stdout",
     "output_type": "stream",
     "text": [
      "Indexed 500/500 documents.\n"
     ]
    },
    {
     "data": {
      "application/vnd.jupyter.widget-view+json": {
       "model_id": "73bc86a1e8a64c42aa4c481e92be16a2",
       "version_major": 2,
       "version_minor": 0
      },
      "text/plain": [
       "  0%|          | 0/500 [00:00<?, ?docs/s]"
      ]
     },
     "metadata": {},
     "output_type": "display_data"
    },
    {
     "name": "stdout",
     "output_type": "stream",
     "text": [
      "Indexed 500/500 documents.\n"
     ]
    },
    {
     "data": {
      "application/vnd.jupyter.widget-view+json": {
       "model_id": "5bcc02c56bac4030b46e8c1cc0df7c16",
       "version_major": 2,
       "version_minor": 0
      },
      "text/plain": [
       "  0%|          | 0/500 [00:00<?, ?docs/s]"
      ]
     },
     "metadata": {},
     "output_type": "display_data"
    },
    {
     "name": "stdout",
     "output_type": "stream",
     "text": [
      "Indexed 500/500 documents.\n"
     ]
    },
    {
     "data": {
      "application/vnd.jupyter.widget-view+json": {
       "model_id": "c8c18a7a3da54415ad39111b67c41345",
       "version_major": 2,
       "version_minor": 0
      },
      "text/plain": [
       "  0%|          | 0/500 [00:00<?, ?docs/s]"
      ]
     },
     "metadata": {},
     "output_type": "display_data"
    },
    {
     "name": "stdout",
     "output_type": "stream",
     "text": [
      "Indexed 500/500 documents.\n"
     ]
    },
    {
     "data": {
      "application/vnd.jupyter.widget-view+json": {
       "model_id": "ac2662b3de0c4f42b6b8ac26b3e1b200",
       "version_major": 2,
       "version_minor": 0
      },
      "text/plain": [
       "  0%|          | 0/500 [00:00<?, ?docs/s]"
      ]
     },
     "metadata": {},
     "output_type": "display_data"
    },
    {
     "name": "stdout",
     "output_type": "stream",
     "text": [
      "Indexed 500/500 documents.\n"
     ]
    },
    {
     "data": {
      "application/vnd.jupyter.widget-view+json": {
       "model_id": "49cb732e3c1c4d35983ee063f9d9040c",
       "version_major": 2,
       "version_minor": 0
      },
      "text/plain": [
       "  0%|          | 0/500 [00:00<?, ?docs/s]"
      ]
     },
     "metadata": {},
     "output_type": "display_data"
    },
    {
     "name": "stdout",
     "output_type": "stream",
     "text": [
      "Indexed 500/500 documents.\n"
     ]
    },
    {
     "data": {
      "application/vnd.jupyter.widget-view+json": {
       "model_id": "19f26290bed140baba4a0b2925f258f6",
       "version_major": 2,
       "version_minor": 0
      },
      "text/plain": [
       "  0%|          | 0/500 [00:00<?, ?docs/s]"
      ]
     },
     "metadata": {},
     "output_type": "display_data"
    },
    {
     "name": "stdout",
     "output_type": "stream",
     "text": [
      "Indexed 500/500 documents.\n"
     ]
    },
    {
     "data": {
      "application/vnd.jupyter.widget-view+json": {
       "model_id": "a222f677080848d5aef732589dce04f9",
       "version_major": 2,
       "version_minor": 0
      },
      "text/plain": [
       "  0%|          | 0/500 [00:00<?, ?docs/s]"
      ]
     },
     "metadata": {},
     "output_type": "display_data"
    },
    {
     "name": "stdout",
     "output_type": "stream",
     "text": [
      "Indexed 500/500 documents.\n"
     ]
    },
    {
     "data": {
      "application/vnd.jupyter.widget-view+json": {
       "model_id": "ab547fc887c74211a3bc9fc3b3d8e287",
       "version_major": 2,
       "version_minor": 0
      },
      "text/plain": [
       "  0%|          | 0/500 [00:00<?, ?docs/s]"
      ]
     },
     "metadata": {},
     "output_type": "display_data"
    },
    {
     "name": "stdout",
     "output_type": "stream",
     "text": [
      "Indexed 500/500 documents.\n"
     ]
    },
    {
     "data": {
      "application/vnd.jupyter.widget-view+json": {
       "model_id": "b9644fb1391a4161b692922771c6b627",
       "version_major": 2,
       "version_minor": 0
      },
      "text/plain": [
       "  0%|          | 0/500 [00:00<?, ?docs/s]"
      ]
     },
     "metadata": {},
     "output_type": "display_data"
    },
    {
     "name": "stdout",
     "output_type": "stream",
     "text": [
      "Indexed 500/500 documents.\n"
     ]
    },
    {
     "data": {
      "application/vnd.jupyter.widget-view+json": {
       "model_id": "b6097cf90f4f41bf841a1c8d5e3154f2",
       "version_major": 2,
       "version_minor": 0
      },
      "text/plain": [
       "  0%|          | 0/500 [00:00<?, ?docs/s]"
      ]
     },
     "metadata": {},
     "output_type": "display_data"
    },
    {
     "name": "stdout",
     "output_type": "stream",
     "text": [
      "Indexed 500/500 documents.\n"
     ]
    },
    {
     "data": {
      "application/vnd.jupyter.widget-view+json": {
       "model_id": "f02d5e98cc654bcc9ae8547743680091",
       "version_major": 2,
       "version_minor": 0
      },
      "text/plain": [
       "  0%|          | 0/500 [00:00<?, ?docs/s]"
      ]
     },
     "metadata": {},
     "output_type": "display_data"
    },
    {
     "name": "stdout",
     "output_type": "stream",
     "text": [
      "Indexed 500/500 documents.\n"
     ]
    },
    {
     "data": {
      "application/vnd.jupyter.widget-view+json": {
       "model_id": "5af96ce316f14396bb10b0f3c76a7135",
       "version_major": 2,
       "version_minor": 0
      },
      "text/plain": [
       "  0%|          | 0/500 [00:00<?, ?docs/s]"
      ]
     },
     "metadata": {},
     "output_type": "display_data"
    },
    {
     "name": "stdout",
     "output_type": "stream",
     "text": [
      "Indexed 500/500 documents.\n"
     ]
    },
    {
     "data": {
      "application/vnd.jupyter.widget-view+json": {
       "model_id": "24205be8686c4f29bb9908d0bf5cb6d4",
       "version_major": 2,
       "version_minor": 0
      },
      "text/plain": [
       "  0%|          | 0/500 [00:00<?, ?docs/s]"
      ]
     },
     "metadata": {},
     "output_type": "display_data"
    },
    {
     "name": "stdout",
     "output_type": "stream",
     "text": [
      "Indexed 500/500 documents.\n"
     ]
    },
    {
     "data": {
      "application/vnd.jupyter.widget-view+json": {
       "model_id": "afc37bcc74a54339b3518beae5cbcd03",
       "version_major": 2,
       "version_minor": 0
      },
      "text/plain": [
       "  0%|          | 0/500 [00:00<?, ?docs/s]"
      ]
     },
     "metadata": {},
     "output_type": "display_data"
    },
    {
     "name": "stdout",
     "output_type": "stream",
     "text": [
      "Indexed 500/500 documents.\n"
     ]
    },
    {
     "data": {
      "application/vnd.jupyter.widget-view+json": {
       "model_id": "6a2de0ddec744e68b9eb74ab52e495d8",
       "version_major": 2,
       "version_minor": 0
      },
      "text/plain": [
       "  0%|          | 0/500 [00:00<?, ?docs/s]"
      ]
     },
     "metadata": {},
     "output_type": "display_data"
    },
    {
     "name": "stdout",
     "output_type": "stream",
     "text": [
      "Indexed 500/500 documents.\n"
     ]
    },
    {
     "data": {
      "application/vnd.jupyter.widget-view+json": {
       "model_id": "c0058f75dfb64a4883ed786ffb127b11",
       "version_major": 2,
       "version_minor": 0
      },
      "text/plain": [
       "  0%|          | 0/500 [00:00<?, ?docs/s]"
      ]
     },
     "metadata": {},
     "output_type": "display_data"
    },
    {
     "name": "stdout",
     "output_type": "stream",
     "text": [
      "Indexed 500/500 documents.\n"
     ]
    },
    {
     "data": {
      "application/vnd.jupyter.widget-view+json": {
       "model_id": "7a9996522cbb47aaabc3eda20d34245d",
       "version_major": 2,
       "version_minor": 0
      },
      "text/plain": [
       "  0%|          | 0/500 [00:00<?, ?docs/s]"
      ]
     },
     "metadata": {},
     "output_type": "display_data"
    },
    {
     "name": "stdout",
     "output_type": "stream",
     "text": [
      "Indexed 500/500 documents.\n"
     ]
    },
    {
     "data": {
      "application/vnd.jupyter.widget-view+json": {
       "model_id": "f036bea07fa548bb97a4a574b0ca8a44",
       "version_major": 2,
       "version_minor": 0
      },
      "text/plain": [
       "  0%|          | 0/500 [00:00<?, ?docs/s]"
      ]
     },
     "metadata": {},
     "output_type": "display_data"
    },
    {
     "name": "stdout",
     "output_type": "stream",
     "text": [
      "Indexed 500/500 documents.\n"
     ]
    },
    {
     "data": {
      "application/vnd.jupyter.widget-view+json": {
       "model_id": "3dead03125bd4e0690767cf1e3b1c19e",
       "version_major": 2,
       "version_minor": 0
      },
      "text/plain": [
       "  0%|          | 0/500 [00:00<?, ?docs/s]"
      ]
     },
     "metadata": {},
     "output_type": "display_data"
    },
    {
     "name": "stdout",
     "output_type": "stream",
     "text": [
      "Indexed 500/500 documents.\n"
     ]
    },
    {
     "data": {
      "application/vnd.jupyter.widget-view+json": {
       "model_id": "3bced431ff34412496d97f7556e67d6e",
       "version_major": 2,
       "version_minor": 0
      },
      "text/plain": [
       "  0%|          | 0/500 [00:00<?, ?docs/s]"
      ]
     },
     "metadata": {},
     "output_type": "display_data"
    },
    {
     "name": "stdout",
     "output_type": "stream",
     "text": [
      "Indexed 500/500 documents.\n"
     ]
    },
    {
     "data": {
      "application/vnd.jupyter.widget-view+json": {
       "model_id": "a627ac62ad06489b84453b17f3c8b2ff",
       "version_major": 2,
       "version_minor": 0
      },
      "text/plain": [
       "  0%|          | 0/500 [00:00<?, ?docs/s]"
      ]
     },
     "metadata": {},
     "output_type": "display_data"
    },
    {
     "name": "stdout",
     "output_type": "stream",
     "text": [
      "Indexed 500/500 documents.\n"
     ]
    },
    {
     "data": {
      "application/vnd.jupyter.widget-view+json": {
       "model_id": "0503d6d6eb20488abd3b6a0e3274b545",
       "version_major": 2,
       "version_minor": 0
      },
      "text/plain": [
       "  0%|          | 0/500 [00:00<?, ?docs/s]"
      ]
     },
     "metadata": {},
     "output_type": "display_data"
    },
    {
     "name": "stdout",
     "output_type": "stream",
     "text": [
      "Indexed 500/500 documents.\n"
     ]
    },
    {
     "data": {
      "application/vnd.jupyter.widget-view+json": {
       "model_id": "8ce5051e29084b32b4103c798f3ddbc3",
       "version_major": 2,
       "version_minor": 0
      },
      "text/plain": [
       "  0%|          | 0/500 [00:00<?, ?docs/s]"
      ]
     },
     "metadata": {},
     "output_type": "display_data"
    },
    {
     "name": "stdout",
     "output_type": "stream",
     "text": [
      "Indexed 500/500 documents.\n"
     ]
    },
    {
     "data": {
      "application/vnd.jupyter.widget-view+json": {
       "model_id": "39cf60e3fa0646a8bcd594800fb949de",
       "version_major": 2,
       "version_minor": 0
      },
      "text/plain": [
       "  0%|          | 0/500 [00:00<?, ?docs/s]"
      ]
     },
     "metadata": {},
     "output_type": "display_data"
    },
    {
     "name": "stdout",
     "output_type": "stream",
     "text": [
      "Indexed 500/500 documents.\n"
     ]
    },
    {
     "data": {
      "application/vnd.jupyter.widget-view+json": {
       "model_id": "f4cee66b85f644cfb9ee03822b69dbdb",
       "version_major": 2,
       "version_minor": 0
      },
      "text/plain": [
       "  0%|          | 0/500 [00:00<?, ?docs/s]"
      ]
     },
     "metadata": {},
     "output_type": "display_data"
    },
    {
     "name": "stdout",
     "output_type": "stream",
     "text": [
      "Indexed 500/500 documents.\n"
     ]
    },
    {
     "data": {
      "application/vnd.jupyter.widget-view+json": {
       "model_id": "2f71178bb2f64ecaa092171a64e0e7ee",
       "version_major": 2,
       "version_minor": 0
      },
      "text/plain": [
       "  0%|          | 0/500 [00:00<?, ?docs/s]"
      ]
     },
     "metadata": {},
     "output_type": "display_data"
    },
    {
     "name": "stdout",
     "output_type": "stream",
     "text": [
      "Indexed 500/500 documents.\n"
     ]
    },
    {
     "data": {
      "application/vnd.jupyter.widget-view+json": {
       "model_id": "e01d1dc2ebfa41e3956e1ebfe87996bf",
       "version_major": 2,
       "version_minor": 0
      },
      "text/plain": [
       "  0%|          | 0/500 [00:00<?, ?docs/s]"
      ]
     },
     "metadata": {},
     "output_type": "display_data"
    },
    {
     "name": "stdout",
     "output_type": "stream",
     "text": [
      "Indexed 500/500 documents.\n"
     ]
    },
    {
     "data": {
      "application/vnd.jupyter.widget-view+json": {
       "model_id": "723ed6b8491a4769b256579820c28241",
       "version_major": 2,
       "version_minor": 0
      },
      "text/plain": [
       "  0%|          | 0/500 [00:00<?, ?docs/s]"
      ]
     },
     "metadata": {},
     "output_type": "display_data"
    },
    {
     "name": "stdout",
     "output_type": "stream",
     "text": [
      "Indexed 500/500 documents.\n"
     ]
    },
    {
     "data": {
      "application/vnd.jupyter.widget-view+json": {
       "model_id": "a25022ec426145fb9f55b52d4c2e2234",
       "version_major": 2,
       "version_minor": 0
      },
      "text/plain": [
       "  0%|          | 0/500 [00:00<?, ?docs/s]"
      ]
     },
     "metadata": {},
     "output_type": "display_data"
    },
    {
     "name": "stdout",
     "output_type": "stream",
     "text": [
      "Indexed 500/500 documents.\n"
     ]
    },
    {
     "data": {
      "application/vnd.jupyter.widget-view+json": {
       "model_id": "e1b3900e50d64b8f82ff216b0ba69167",
       "version_major": 2,
       "version_minor": 0
      },
      "text/plain": [
       "  0%|          | 0/500 [00:00<?, ?docs/s]"
      ]
     },
     "metadata": {},
     "output_type": "display_data"
    },
    {
     "name": "stdout",
     "output_type": "stream",
     "text": [
      "Indexed 500/500 documents.\n"
     ]
    },
    {
     "data": {
      "application/vnd.jupyter.widget-view+json": {
       "model_id": "210ed8fc30d04ae08e80c0edfb9a62b3",
       "version_major": 2,
       "version_minor": 0
      },
      "text/plain": [
       "  0%|          | 0/500 [00:00<?, ?docs/s]"
      ]
     },
     "metadata": {},
     "output_type": "display_data"
    },
    {
     "name": "stdout",
     "output_type": "stream",
     "text": [
      "Indexed 500/500 documents.\n"
     ]
    },
    {
     "data": {
      "application/vnd.jupyter.widget-view+json": {
       "model_id": "5f7adc691a224c4e899142009004a439",
       "version_major": 2,
       "version_minor": 0
      },
      "text/plain": [
       "  0%|          | 0/500 [00:00<?, ?docs/s]"
      ]
     },
     "metadata": {},
     "output_type": "display_data"
    },
    {
     "name": "stdout",
     "output_type": "stream",
     "text": [
      "Indexed 500/500 documents.\n"
     ]
    },
    {
     "data": {
      "application/vnd.jupyter.widget-view+json": {
       "model_id": "6997129716b34602996bebab172d24bf",
       "version_major": 2,
       "version_minor": 0
      },
      "text/plain": [
       "  0%|          | 0/500 [00:00<?, ?docs/s]"
      ]
     },
     "metadata": {},
     "output_type": "display_data"
    },
    {
     "name": "stdout",
     "output_type": "stream",
     "text": [
      "Indexed 500/500 documents.\n"
     ]
    },
    {
     "data": {
      "application/vnd.jupyter.widget-view+json": {
       "model_id": "d115d00f175f47978af15e09bc520fb7",
       "version_major": 2,
       "version_minor": 0
      },
      "text/plain": [
       "  0%|          | 0/500 [00:00<?, ?docs/s]"
      ]
     },
     "metadata": {},
     "output_type": "display_data"
    },
    {
     "name": "stdout",
     "output_type": "stream",
     "text": [
      "Indexed 500/500 documents.\n"
     ]
    },
    {
     "data": {
      "application/vnd.jupyter.widget-view+json": {
       "model_id": "3caddaec49af4daf99f43dc7478ffe83",
       "version_major": 2,
       "version_minor": 0
      },
      "text/plain": [
       "  0%|          | 0/500 [00:00<?, ?docs/s]"
      ]
     },
     "metadata": {},
     "output_type": "display_data"
    },
    {
     "name": "stdout",
     "output_type": "stream",
     "text": [
      "Indexed 500/500 documents.\n"
     ]
    },
    {
     "data": {
      "application/vnd.jupyter.widget-view+json": {
       "model_id": "1dcacb91064a4bb0841a29491d39bc31",
       "version_major": 2,
       "version_minor": 0
      },
      "text/plain": [
       "  0%|          | 0/500 [00:00<?, ?docs/s]"
      ]
     },
     "metadata": {},
     "output_type": "display_data"
    },
    {
     "name": "stdout",
     "output_type": "stream",
     "text": [
      "Indexed 500/500 documents.\n"
     ]
    },
    {
     "data": {
      "application/vnd.jupyter.widget-view+json": {
       "model_id": "49d7c338d6c84d11af02dd96a89e16ef",
       "version_major": 2,
       "version_minor": 0
      },
      "text/plain": [
       "  0%|          | 0/500 [00:00<?, ?docs/s]"
      ]
     },
     "metadata": {},
     "output_type": "display_data"
    },
    {
     "name": "stdout",
     "output_type": "stream",
     "text": [
      "Indexed 500/500 documents.\n"
     ]
    },
    {
     "data": {
      "application/vnd.jupyter.widget-view+json": {
       "model_id": "a16c84858c174a6facd3dd9c4855e4ea",
       "version_major": 2,
       "version_minor": 0
      },
      "text/plain": [
       "  0%|          | 0/500 [00:00<?, ?docs/s]"
      ]
     },
     "metadata": {},
     "output_type": "display_data"
    },
    {
     "name": "stdout",
     "output_type": "stream",
     "text": [
      "Indexed 500/500 documents.\n"
     ]
    },
    {
     "data": {
      "application/vnd.jupyter.widget-view+json": {
       "model_id": "13de951a52014d869f48d223d3bf2026",
       "version_major": 2,
       "version_minor": 0
      },
      "text/plain": [
       "  0%|          | 0/500 [00:00<?, ?docs/s]"
      ]
     },
     "metadata": {},
     "output_type": "display_data"
    },
    {
     "name": "stdout",
     "output_type": "stream",
     "text": [
      "Indexed 500/500 documents.\n"
     ]
    },
    {
     "data": {
      "application/vnd.jupyter.widget-view+json": {
       "model_id": "ac8251ae4335477b9c1a0b0d827dde8f",
       "version_major": 2,
       "version_minor": 0
      },
      "text/plain": [
       "  0%|          | 0/500 [00:00<?, ?docs/s]"
      ]
     },
     "metadata": {},
     "output_type": "display_data"
    },
    {
     "name": "stdout",
     "output_type": "stream",
     "text": [
      "Indexed 500/500 documents.\n"
     ]
    },
    {
     "data": {
      "application/vnd.jupyter.widget-view+json": {
       "model_id": "c2e7770bbbc84de98b0c5734a080b2e4",
       "version_major": 2,
       "version_minor": 0
      },
      "text/plain": [
       "  0%|          | 0/500 [00:00<?, ?docs/s]"
      ]
     },
     "metadata": {},
     "output_type": "display_data"
    },
    {
     "name": "stdout",
     "output_type": "stream",
     "text": [
      "Indexed 500/500 documents.\n"
     ]
    },
    {
     "data": {
      "application/vnd.jupyter.widget-view+json": {
       "model_id": "bbda71bd571a4aa6b0914e3bbcf2d7ef",
       "version_major": 2,
       "version_minor": 0
      },
      "text/plain": [
       "  0%|          | 0/500 [00:00<?, ?docs/s]"
      ]
     },
     "metadata": {},
     "output_type": "display_data"
    },
    {
     "name": "stdout",
     "output_type": "stream",
     "text": [
      "Indexed 500/500 documents.\n"
     ]
    },
    {
     "data": {
      "application/vnd.jupyter.widget-view+json": {
       "model_id": "ff5ee29cea014146b892136648a55d94",
       "version_major": 2,
       "version_minor": 0
      },
      "text/plain": [
       "  0%|          | 0/500 [00:00<?, ?docs/s]"
      ]
     },
     "metadata": {},
     "output_type": "display_data"
    },
    {
     "name": "stdout",
     "output_type": "stream",
     "text": [
      "Indexed 500/500 documents.\n"
     ]
    },
    {
     "data": {
      "application/vnd.jupyter.widget-view+json": {
       "model_id": "325b18a6705047bc9c62338c33fd1635",
       "version_major": 2,
       "version_minor": 0
      },
      "text/plain": [
       "  0%|          | 0/500 [00:00<?, ?docs/s]"
      ]
     },
     "metadata": {},
     "output_type": "display_data"
    },
    {
     "name": "stdout",
     "output_type": "stream",
     "text": [
      "Indexed 500/500 documents.\n"
     ]
    },
    {
     "data": {
      "application/vnd.jupyter.widget-view+json": {
       "model_id": "55fa2af0f6644a669c7387e2cb089ee2",
       "version_major": 2,
       "version_minor": 0
      },
      "text/plain": [
       "  0%|          | 0/500 [00:00<?, ?docs/s]"
      ]
     },
     "metadata": {},
     "output_type": "display_data"
    },
    {
     "name": "stdout",
     "output_type": "stream",
     "text": [
      "Indexed 500/500 documents.\n"
     ]
    },
    {
     "data": {
      "application/vnd.jupyter.widget-view+json": {
       "model_id": "fa818dff5b7440379ae4a8134a391e58",
       "version_major": 2,
       "version_minor": 0
      },
      "text/plain": [
       "  0%|          | 0/500 [00:00<?, ?docs/s]"
      ]
     },
     "metadata": {},
     "output_type": "display_data"
    },
    {
     "name": "stdout",
     "output_type": "stream",
     "text": [
      "Indexed 500/500 documents.\n"
     ]
    },
    {
     "data": {
      "application/vnd.jupyter.widget-view+json": {
       "model_id": "bb51d48c34eb458187838f86939bb5a6",
       "version_major": 2,
       "version_minor": 0
      },
      "text/plain": [
       "  0%|          | 0/500 [00:00<?, ?docs/s]"
      ]
     },
     "metadata": {},
     "output_type": "display_data"
    },
    {
     "name": "stdout",
     "output_type": "stream",
     "text": [
      "Indexed 500/500 documents.\n"
     ]
    },
    {
     "data": {
      "application/vnd.jupyter.widget-view+json": {
       "model_id": "73f97376b8dc4b7384c6406f4700416b",
       "version_major": 2,
       "version_minor": 0
      },
      "text/plain": [
       "  0%|          | 0/500 [00:00<?, ?docs/s]"
      ]
     },
     "metadata": {},
     "output_type": "display_data"
    },
    {
     "name": "stdout",
     "output_type": "stream",
     "text": [
      "Indexed 500/500 documents.\n"
     ]
    },
    {
     "data": {
      "application/vnd.jupyter.widget-view+json": {
       "model_id": "aebddf6345a14b63a7bfcbbfa2f16f88",
       "version_major": 2,
       "version_minor": 0
      },
      "text/plain": [
       "  0%|          | 0/500 [00:00<?, ?docs/s]"
      ]
     },
     "metadata": {},
     "output_type": "display_data"
    },
    {
     "name": "stdout",
     "output_type": "stream",
     "text": [
      "Indexed 500/500 documents.\n"
     ]
    },
    {
     "data": {
      "application/vnd.jupyter.widget-view+json": {
       "model_id": "bb74c48d85e24405bb8d6636d1cf24c9",
       "version_major": 2,
       "version_minor": 0
      },
      "text/plain": [
       "  0%|          | 0/134 [00:00<?, ?docs/s]"
      ]
     },
     "metadata": {},
     "output_type": "display_data"
    },
    {
     "name": "stdout",
     "output_type": "stream",
     "text": [
      "Indexed 134/134 documents.\n"
     ]
    }
   ],
   "source": [
    "def upload_in_batches(es_client, es_index, documents, batch_size=500):\n",
    "    total_docs = len(documents)\n",
    "    start_index = 0\n",
    "\n",
    "    while start_index < total_docs:\n",
    "        # Calculate the end index for the current batch, ensuring it doesn't exceed total_docs\n",
    "        end_index = min(start_index + batch_size, total_docs)\n",
    "        current_batch = documents[start_index:end_index]\n",
    "\n",
    "        # Upload the current batch\n",
    "        result = send_to_elasticsearch(\n",
    "            es_client=es_client,\n",
    "            es_index=es_index,\n",
    "            documents=current_batch,\n",
    "            chunk_size=batch_size,  # This ensures parallel_bulk processes in chunks of 500 as well\n",
    "        )\n",
    "\n",
    "        # Optionally, print/log the result of each batch upload\n",
    "        print(result)\n",
    "\n",
    "        # Update the start index for the next batch\n",
    "        start_index += batch_size\n",
    "\n",
    "\n",
    "# Use the function\n",
    "upload_in_batches(es_client, es_index, data, batch_size=batch_size)"
   ]
  }
 ],
 "metadata": {
  "kernelspec": {
   "display_name": "Python 3.10.0 ('.venv': poetry)",
   "language": "python",
   "name": "python3"
  },
  "language_info": {
   "codemirror_mode": {
    "name": "ipython",
    "version": 3
   },
   "file_extension": ".py",
   "mimetype": "text/x-python",
   "name": "python",
   "nbconvert_exporter": "python",
   "pygments_lexer": "ipython3",
   "version": "3.11.6"
  },
  "orig_nbformat": 4,
  "vscode": {
   "interpreter": {
    "hash": "922c6dc2f997cff1ad2bba8520fc1b4702789a70b32d82613e8aa6224a20cd8e"
   }
  }
 },
 "nbformat": 4,
 "nbformat_minor": 2
}
