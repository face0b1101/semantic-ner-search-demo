{
 "cells": [
  {
   "cell_type": "code",
   "execution_count": 4,
   "metadata": {},
   "outputs": [
    {
     "name": "stdout",
     "output_type": "stream",
     "text": [
      "DEBUG\n",
      "Europe/London\n",
      "True\n",
      "False\n"
     ]
    }
   ],
   "source": [
    "from python_poetry_boilerplate.config.env import LOG_LEVEL, DEFAULT_TZ\n",
    "from python_poetry_boilerplate.main import something\n",
    "\n",
    "# This is an example Jupyter Notebook showing how to test elements of your application\n",
    "\n",
    "print(LOG_LEVEL)\n",
    "print(DEFAULT_TZ)\n",
    "\n",
    "print(something(\"Hello World!\"))\n",
    "print(something(23))\n"
   ]
  }
 ],
 "metadata": {
  "kernelspec": {
   "display_name": "Python 3.10.0 ('.venv': poetry)",
   "language": "python",
   "name": "python3"
  },
  "language_info": {
   "codemirror_mode": {
    "name": "ipython",
    "version": 3
   },
   "file_extension": ".py",
   "mimetype": "text/x-python",
   "name": "python",
   "nbconvert_exporter": "python",
   "pygments_lexer": "ipython3",
   "version": "3.10.0"
  },
  "orig_nbformat": 4,
  "vscode": {
   "interpreter": {
    "hash": "922c6dc2f997cff1ad2bba8520fc1b4702789a70b32d82613e8aa6224a20cd8e"
   }
  }
 },
 "nbformat": 4,
 "nbformat_minor": 2
}
